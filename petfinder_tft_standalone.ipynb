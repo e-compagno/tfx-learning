{
 "cells": [
  {
   "metadata": {},
   "cell_type": "markdown",
   "source": [
    "# TF Transformer standalone\n",
    "Example with TF Transformer in standalone mode using apache beam.\n",
    "\n",
    "### Notes\n",
    "To download the dataset follow the [link](https://www.tensorflow.org/tutorials/structured_data/preprocessing_layers?hl=it)"
   ],
   "id": "569b740a1bd8276"
  },
  {
   "metadata": {
    "ExecuteTime": {
     "end_time": "2024-05-17T13:35:45.160665Z",
     "start_time": "2024-05-17T13:35:36.046661Z"
    }
   },
   "cell_type": "code",
   "source": [
    "import apache_beam as beam\n",
    "\n",
    "import logging\n",
    "import tensorflow as tf\n",
    "import pandas as pd\n",
    "import numpy as np\n",
    "from pathlib import Path\n",
    "import typing\n",
    "from apache_beam.options.pipeline_options import PipelineOptions\n",
    "from apache_beam.ml.transforms.base import MLTransform\n",
    "from apache_beam.ml.transforms.tft import ScaleToZScore, ComputeAndApplyVocabulary\n",
    "import pathlib\n",
    "import pprint\n",
    "import tempfile\n",
    "import csv\n",
    "\n",
    "import tensorflow as tf\n",
    "import tensorflow_transform as tft\n",
    "\n",
    "import tensorflow_transform.beam as tft_beam\n",
    "from tensorflow_transform.tf_metadata import dataset_metadata\n",
    "from tensorflow_transform.tf_metadata import schema_utils\n",
    "from tensorflow_transform.keras_lib import tf_keras\n",
    "\n",
    "logger = logging.getLogger()\n",
    "logger.setLevel(logging.INFO)\n",
    "\n",
    "csv_path = Path(\"data/petfinder\") / \"petfinder-mini.csv\"\n",
    "\n",
    "df = pd.read_csv(csv_path)\n",
    "df.info()"
   ],
   "id": "2d0c8ffbda3e3cad",
   "outputs": [
    {
     "name": "stderr",
     "output_type": "stream",
     "text": [
      "2024-05-17 15:35:41.311327: I tensorflow/core/platform/cpu_feature_guard.cc:182] This TensorFlow binary is optimized to use available CPU instructions in performance-critical operations.\n",
      "To enable the following instructions: AVX2 FMA, in other operations, rebuild TensorFlow with the appropriate compiler flags.\n"
     ]
    },
    {
     "name": "stdout",
     "output_type": "stream",
     "text": [
      "<class 'pandas.core.frame.DataFrame'>\n",
      "RangeIndex: 11537 entries, 0 to 11536\n",
      "Data columns (total 15 columns):\n",
      " #   Column         Non-Null Count  Dtype \n",
      "---  ------         --------------  ----- \n",
      " 0   Type           11537 non-null  object\n",
      " 1   Age            11537 non-null  int64 \n",
      " 2   Breed1         11537 non-null  object\n",
      " 3   Gender         11537 non-null  object\n",
      " 4   Color1         11537 non-null  object\n",
      " 5   Color2         11537 non-null  object\n",
      " 6   MaturitySize   11537 non-null  object\n",
      " 7   FurLength      11537 non-null  object\n",
      " 8   Vaccinated     11537 non-null  object\n",
      " 9   Sterilized     11537 non-null  object\n",
      " 10  Health         11537 non-null  object\n",
      " 11  Fee            11537 non-null  int64 \n",
      " 12  Description    11528 non-null  object\n",
      " 13  PhotoAmt       11537 non-null  int64 \n",
      " 14  AdoptionSpeed  11537 non-null  int64 \n",
      "dtypes: int64(4), object(11)\n",
      "memory usage: 1.3+ MB\n"
     ]
    }
   ],
   "execution_count": 1
  },
  {
   "metadata": {
    "ExecuteTime": {
     "end_time": "2024-05-17T13:35:45.918744Z",
     "start_time": "2024-05-17T13:35:45.163045Z"
    }
   },
   "cell_type": "code",
   "source": [
    "schema = list(df.columns)\n",
    "def _set_types(d):\n",
    "    \"\"\" Set feature types \"\"\"\n",
    "    d['Age'] = int(d['Age'])\n",
    "    d['Fee'] = int(d['Fee'])\n",
    "    d['PhotoAmt'] = int(d['PhotoAmt'])\n",
    "    d['AdoptionSpeed'] = int(d['AdoptionSpeed'])\n",
    "    return d\n",
    "\n",
    "counter = 0\n",
    "def filter_first_n_rows(row, n: int =5) -> bool:\n",
    "    \"\"\" Extract the first n rows.\"\"\"\n",
    "    global counter\n",
    "    if counter < n:\n",
    "        counter += 1\n",
    "        return True\n",
    "    else:\n",
    "        return False\n",
    "\n",
    "def parse_csv(line) -> dict:\n",
    "    \"\"\" Convert line of the csv row to dict \"\"\"\n",
    "    return dict(zip(schema, next(csv.reader([line]))))\n",
    "\n",
    "with (beam.Pipeline() as pipeline):\n",
    "    lines = (\n",
    "            pipeline\n",
    "            | beam.io.textio.ReadFromText(str(csv_path), skip_header_lines=1) # .with_input_types(PetFinderSchema)\n",
    "            | beam.Map(parse_csv)\n",
    "            | beam.Map(_set_types)\n",
    "            # | MLTransform(write_artifact_location=artifact_location).with_transform(scale_age).with_transform(tf_idf_descr)\n",
    "            | beam.Filter(lambda x: filter_first_n_rows(x, n=3))\n",
    "            | beam.Map(print)\n",
    "    )"
   ],
   "id": "9244cb1a37c289e",
   "outputs": [
    {
     "name": "stderr",
     "output_type": "stream",
     "text": [
      "INFO:root:Missing pipeline option (runner). Executing pipeline using the default runner: DirectRunner.\n",
      "WARNING:apache_beam.runners.interactive.interactive_environment:Dependencies required for Interactive Beam PCollection visualization are not available, please use: `pip install apache-beam[interactive]` to install necessary dependencies to enable all data visualization features.\n"
     ]
    },
    {
     "data": {
      "application/javascript": "\n        if (typeof window.interactive_beam_jquery == 'undefined') {\n          var jqueryScript = document.createElement('script');\n          jqueryScript.src = 'https://code.jquery.com/jquery-3.4.1.slim.min.js';\n          jqueryScript.type = 'text/javascript';\n          jqueryScript.onload = function() {\n            var datatableScript = document.createElement('script');\n            datatableScript.src = 'https://cdn.datatables.net/1.10.20/js/jquery.dataTables.min.js';\n            datatableScript.type = 'text/javascript';\n            datatableScript.onload = function() {\n              window.interactive_beam_jquery = jQuery.noConflict(true);\n              window.interactive_beam_jquery(document).ready(function($){\n                \n              });\n            }\n            document.head.appendChild(datatableScript);\n          };\n          document.head.appendChild(jqueryScript);\n        } else {\n          window.interactive_beam_jquery(document).ready(function($){\n            \n          });\n        }"
     },
     "metadata": {},
     "output_type": "display_data"
    },
    {
     "name": "stderr",
     "output_type": "stream",
     "text": [
      "INFO:apache_beam.runners.worker.statecache:Creating state cache with size 104857600\n"
     ]
    },
    {
     "name": "stdout",
     "output_type": "stream",
     "text": [
      "{'Type': 'Cat', 'Age': 3, 'Breed1': 'Tabby', 'Gender': 'Male', 'Color1': 'Black', 'Color2': 'White', 'MaturitySize': 'Small', 'FurLength': 'Short', 'Vaccinated': 'No', 'Sterilized': 'No', 'Health': 'Healthy', 'Fee': 100, 'Description': \"Nibble is a 3+ month old ball of cuteness. He is energetic and playful. I rescued a couple of cats a few months ago but could not get them neutered in time as the clinic was fully scheduled. The result was this little kitty. I do not have enough space and funds to care for more cats in my household. Looking for responsible people to take over Nibble's care.\", 'PhotoAmt': 1, 'AdoptionSpeed': 2}\n",
      "{'Type': 'Cat', 'Age': 1, 'Breed1': 'Domestic Medium Hair', 'Gender': 'Male', 'Color1': 'Black', 'Color2': 'Brown', 'MaturitySize': 'Medium', 'FurLength': 'Medium', 'Vaccinated': 'Not Sure', 'Sterilized': 'Not Sure', 'Health': 'Healthy', 'Fee': 0, 'Description': 'I just found it alone yesterday near my apartment. It was shaking so I had to bring it home to provide temporary care.', 'PhotoAmt': 2, 'AdoptionSpeed': 0}\n",
      "{'Type': 'Dog', 'Age': 1, 'Breed1': 'Mixed Breed', 'Gender': 'Male', 'Color1': 'Brown', 'Color2': 'White', 'MaturitySize': 'Medium', 'FurLength': 'Medium', 'Vaccinated': 'Yes', 'Sterilized': 'No', 'Health': 'Healthy', 'Fee': 0, 'Description': 'Their pregnant mother was dumped by her irresponsible owner at the roadside near some shops in Subang Jaya. Gave birth to them at the roadside. They are all healthy and adorable puppies. Already dewormed, vaccinated and ready to go to a home. No tying or caging for long hours as guard dogs. However, it is acceptable to cage or tie for precautionary purposes. Interested to adopt pls call me.', 'PhotoAmt': 7, 'AdoptionSpeed': 3}\n"
     ]
    }
   ],
   "execution_count": 2
  },
  {
   "metadata": {
    "ExecuteTime": {
     "end_time": "2024-05-17T13:35:45.945511Z",
     "start_time": "2024-05-17T13:35:45.922120Z"
    }
   },
   "cell_type": "code",
   "source": "df.select_dtypes(exclude='number').nunique()",
   "id": "f14615835e826833",
   "outputs": [
    {
     "data": {
      "text/plain": [
       "Type                2\n",
       "Breed1            166\n",
       "Gender              2\n",
       "Color1              7\n",
       "Color2              7\n",
       "MaturitySize        3\n",
       "FurLength           3\n",
       "Vaccinated          3\n",
       "Sterilized          3\n",
       "Health              3\n",
       "Description     10691\n",
       "dtype: int64"
      ]
     },
     "execution_count": 3,
     "metadata": {},
     "output_type": "execute_result"
    }
   ],
   "execution_count": 3
  },
  {
   "metadata": {
    "ExecuteTime": {
     "end_time": "2024-05-17T13:36:17.593936Z",
     "start_time": "2024-05-17T13:35:45.947331Z"
    }
   },
   "cell_type": "code",
   "source": [
    "schema = list(df.columns)\n",
    "def _set_types(d):\n",
    "    \"\"\" Set feature types \"\"\"\n",
    "    d['Age'] = int(d['Age'])\n",
    "    d['Fee'] = int(d['Fee'])\n",
    "    d['PhotoAmt'] = int(d['PhotoAmt'])\n",
    "    d['AdoptionSpeed'] = int(d['AdoptionSpeed'])\n",
    "    return d\n",
    "\n",
    "counter = 0\n",
    "def filter_first_n_rows(row, n: int =5) -> bool:\n",
    "    \"\"\" Extract the first n rows.\"\"\"\n",
    "    global counter\n",
    "    if counter < n:\n",
    "        counter += 1\n",
    "        return True\n",
    "    else:\n",
    "        return False\n",
    "\n",
    "def parse_csv(line) -> dict:\n",
    "    \"\"\" Convert line of the csv row to dict \"\"\"\n",
    "    return dict(zip(schema, next(csv.reader([line]))))\n",
    "\n",
    "raw_data_metadata = dataset_metadata.DatasetMetadata(\n",
    "    schema_utils.schema_from_feature_spec({\n",
    "        'Type': tf.io.FixedLenFeature([], tf.string),\n",
    "        'Age': tf.io.FixedLenFeature([], tf.float32),\n",
    "        'Breed1': tf.io.FixedLenFeature([], tf.string),\n",
    "        'Gender': tf.io.FixedLenFeature([], tf.string),\n",
    "        'Color1': tf.io.FixedLenFeature([], tf.string),\n",
    "        'Color2': tf.io.FixedLenFeature([], tf.string),\n",
    "        'MaturitySize': tf.io.FixedLenFeature([], tf.string),\n",
    "        'FurLength': tf.io.FixedLenFeature([], tf.string),\n",
    "        'Vaccinated': tf.io.FixedLenFeature([], tf.string),\n",
    "        'Sterilized': tf.io.FixedLenFeature([], tf.string),\n",
    "        'Health': tf.io.FixedLenFeature([], tf.string),\n",
    "        'Fee': tf.io.FixedLenFeature([], tf.float32),\n",
    "        'Description': tf.io.VarLenFeature(tf.string),\n",
    "        'PhotoAmt': tf.io.FixedLenFeature([], tf.float32),\n",
    "        'AdoptionSpeed': tf.io.FixedLenFeature([], tf.float32),\n",
    "    }))\n",
    "\n",
    "\n",
    "def binarize_adoption_speed_tfop(input_value):\n",
    "  \"\"\"\n",
    "  Binarize the adoption speed feature\n",
    "  \"\"\"\n",
    "  return tf.reshape(tf.where(input_value==4, 1.0, 0.0), [-1])\n",
    "\n",
    "def cat_to_one_hot_tfop(input_value, vocab_filename='x_vocab'):\n",
    "    \"\"\"\n",
    "    Convert categorical feature to one-hot feature\n",
    "    \"\"\"\n",
    "    integerized = tft.compute_and_apply_vocabulary(\n",
    "      input_value,\n",
    "      num_oov_buckets=1,\n",
    "      vocab_filename=vocab_filename)\n",
    "    one_hot_encoded = tf.one_hot(\n",
    "      integerized,\n",
    "      depth=tf.cast(tft.experimental.get_vocabulary_size_by_name(vocab_filename) + 1,\n",
    "                    tf.int32),\n",
    "      on_value=1.0,\n",
    "      off_value=0.0)\n",
    "    return one_hot_encoded\n",
    "\n",
    "def text_to_tfidf_tfops(input_value):\n",
    "  integerized = tft.compute_and_apply_vocabulary(\n",
    "      input_value)\n",
    "  vocab_size = tft.get_num_buckets_for_transformed_feature(integerized)\n",
    "  vocab_index, tfidf_weight = tft.tfidf(integerized, vocab_size)\n",
    "\n",
    "\n",
    "def preprocessing_fn(inputs):\n",
    "  return {\n",
    "      'type': cat_to_one_hot_tfop(inputs[\"Type\"], vocab_filename='petfinder_type'),\n",
    "      'age': tft.scale_to_z_score(inputs['Age']),\n",
    "      #'breed': inputs[\"Breed1\"],\n",
    "      'gender': cat_to_one_hot_tfop(inputs[\"Gender\"], vocab_filename='petfinder_gender'),\n",
    "      'color1': cat_to_one_hot_tfop(inputs[\"Color1\"], vocab_filename='petfinder_color1'),\n",
    "      'color2': cat_to_one_hot_tfop(inputs[\"Color2\"], vocab_filename='petfinder_color2'),\n",
    "      'maturity_size': cat_to_one_hot_tfop(inputs[\"MaturitySize\"], vocab_filename='petfinder_maturitysize'),\n",
    "      'fur_length': cat_to_one_hot_tfop(inputs[\"FurLength\"], vocab_filename='petfinder_furlegth'),\n",
    "      'vaccinated': cat_to_one_hot_tfop(inputs[\"Vaccinated\"], vocab_filename='petfinder_vaccinated'),\n",
    "      'sterilized': cat_to_one_hot_tfop(inputs[\"Sterilized\"], vocab_filename='petfinder_sterilized'),\n",
    "      'health': cat_to_one_hot_tfop(inputs[\"Health\"], vocab_filename='petfinder_health'),\n",
    "      'fee': tft.scale_to_z_score(inputs[\"Fee\"]),\n",
    "      # 'description': inputs[\"Description\"],\n",
    "      'photo_amt': tft.scale_to_z_score(inputs[\"PhotoAmt\"]),\n",
    "      'adoption_speed': binarize_adoption_speed_tfop(inputs[\"AdoptionSpeed\"])\n",
    "  }\n",
    "\n",
    "# raw_data = [\n",
    "#     {'Type': 'Cat', 'Age': 3, 'Breed1': 'Tabby', 'Gender': 'Male', 'Color1': 'Black', 'Color2': 'White', 'MaturitySize': 'Small', 'FurLength': 'Short', 'Vaccinated': 'No', 'Sterilized': 'No', 'Health': 'Healthy', 'Fee': 100, 'Description': \"Nibble is a 3+ month old ball of cuteness. He is energetic and playful. I rescued a couple of cats a few months ago but could not get them neutered in time as the clinic was fully scheduled. The result was this little kitty. I do not have enough space and funds to care for more cats in my household. Looking for responsible people to take over Nibble's care.\", 'PhotoAmt': 1, 'AdoptionSpeed': 2},\n",
    "#     {'Type': 'Cat', 'Age': 1, 'Breed1': 'Domestic Medium Hair', 'Gender': 'Male', 'Color1': 'Black', 'Color2': 'Brown', 'MaturitySize': 'Medium', 'FurLength': 'Medium', 'Vaccinated': 'Not Sure', 'Sterilized': 'Not Sure', 'Health': 'Healthy', 'Fee': 0, 'Description': 'I just found it alone yesterday near my apartment. It was shaking so I had to bring it home to provide temporary care.', 'PhotoAmt': 2, 'AdoptionSpeed': 0},\n",
    "#     {'Type': 'Dog', 'Age': 1, 'Breed1': 'Mixed Breed', 'Gender': 'Male', 'Color1': 'Brown', 'Color2': 'White', 'MaturitySize': 'Medium', 'FurLength': 'Medium', 'Vaccinated': 'Yes', 'Sterilized': 'No', 'Health': 'Healthy', 'Fee': 0, 'Description': 'Their pregnant mother was dumped by her irresponsible owner at the roadside near some shops in Subang Jaya. Gave birth to them at the roadside. They are all healthy and adorable puppies. Already dewormed, vaccinated and ready to go to a home. No tying or caging for long hours as guard dogs. However, it is acceptable to cage or tie for precautionary purposes. Interested to adopt pls call me.', 'PhotoAmt': 7, 'AdoptionSpeed': 3},\n",
    "#     {'Type': 'Dog', 'Age': 4, 'Breed1': 'Mixed Breed', 'Gender': 'Female', 'Color1': 'Black', 'Color2': 'Brown', 'MaturitySize': 'Medium', 'FurLength': 'Short', 'Vaccinated': 'Yes', 'Sterilized': 'No', 'Health': 'Healthy', 'Fee': 150, 'Description': 'Good guard dog, very alert, active, obedience waiting for her good master, plz call or sms for more details if you really get interested, thanks!!', 'PhotoAmt': 8, 'AdoptionSpeed': 2},\n",
    "#     {'Type': 'Dog', 'Age': 1, 'Breed1': 'Mixed Breed', 'Gender': 'Male', 'Color1': 'Black', 'Color2': 'No Color', 'MaturitySize': 'Medium', 'FurLength': 'Short', 'Vaccinated': 'No', 'Sterilized': 'No', 'Health': 'Healthy', 'Fee': 0, 'Description': \"This handsome yet cute boy is up for adoption. He is the most playful pal we've seen in our puppies. He loves to nibble on shoelaces , Chase you at such a young age. Imagine what a cute brat he will be when he grows. We are looking for a loving home for Hunter , one that will take care of him and give him the love that he needs. Please call urgently if you would like to adopt this cutie.\", 'PhotoAmt': 3, 'AdoptionSpeed': 2}\n",
    "# ]\n",
    "\n",
    "pipeline_options = beam.pipeline.PipelineOptions(runner='Direct')\n",
    "\n",
    "with beam.Pipeline(options=pipeline_options) as pipeline:\n",
    "    raw_data = (\n",
    "            pipeline\n",
    "            | beam.io.textio.ReadFromText(str(csv_path), skip_header_lines=1) # .with_input_types(PetFinderSchema)\n",
    "            | beam.Map(parse_csv)\n",
    "            | beam.Map(_set_types)\n",
    "            # | MLTransform(write_artifact_location=artifact_location).with_transform(scale_age).with_transform(tf_idf_descr)\n",
    "            | beam.Filter(lambda x: filter_first_n_rows(x, n=3))\n",
    "    )\n",
    "\n",
    "    with tft_beam.Context(temp_dir=tempfile.mkdtemp()):\n",
    "        transformed_dataset, transform_fn = (  # pylint: disable=unused-variable\n",
    "            (raw_data, raw_data_metadata) | tft_beam.AnalyzeAndTransformDataset(\n",
    "                preprocessing_fn))\n",
    "\n",
    "        transformed_data, transformed_metadata = transformed_dataset\n",
    "        _ = transformed_data | beam.Map(print)\n"
   ],
   "id": "1d658be7123e5b84",
   "outputs": [
    {
     "name": "stderr",
     "output_type": "stream",
     "text": [
      "WARNING:apache_beam.options.pipeline_options:Discarding unparseable args: ['-f', '/Users/enrico/Library/Jupyter/runtime/kernel-ae2d3528-ec70-4ab6-b71c-f554050a9639.json']\n",
      "WARNING:absl:You are passing instance dicts and DatasetMetadata to TFT which will not provide optimal performance. Consider following the TFT guide to upgrade to the TFXIO format (Apache Arrow RecordBatch).\n",
      "INFO:absl:Feature AdoptionSpeed has a shape . Setting to DenseTensor.\n",
      "INFO:absl:Feature Age has a shape . Setting to DenseTensor.\n",
      "INFO:absl:Feature Breed1 has a shape . Setting to DenseTensor.\n",
      "INFO:absl:Feature Color1 has a shape . Setting to DenseTensor.\n",
      "INFO:absl:Feature Color2 has a shape . Setting to DenseTensor.\n",
      "INFO:absl:Feature Description has no shape. Setting to varlen_sparse_tensor.\n",
      "INFO:absl:Feature Fee has a shape . Setting to DenseTensor.\n",
      "INFO:absl:Feature FurLength has a shape . Setting to DenseTensor.\n",
      "INFO:absl:Feature Gender has a shape . Setting to DenseTensor.\n",
      "INFO:absl:Feature Health has a shape . Setting to DenseTensor.\n",
      "INFO:absl:Feature MaturitySize has a shape . Setting to DenseTensor.\n",
      "INFO:absl:Feature PhotoAmt has a shape . Setting to DenseTensor.\n",
      "INFO:absl:Feature Sterilized has a shape . Setting to DenseTensor.\n",
      "INFO:absl:Feature Type has a shape . Setting to DenseTensor.\n",
      "INFO:absl:Feature Vaccinated has a shape . Setting to DenseTensor.\n",
      "INFO:absl:Feature AdoptionSpeed has a shape . Setting to DenseTensor.\n",
      "INFO:absl:Feature Age has a shape . Setting to DenseTensor.\n",
      "INFO:absl:Feature Breed1 has a shape . Setting to DenseTensor.\n",
      "INFO:absl:Feature Color1 has a shape . Setting to DenseTensor.\n",
      "INFO:absl:Feature Color2 has a shape . Setting to DenseTensor.\n",
      "INFO:absl:Feature Description has no shape. Setting to varlen_sparse_tensor.\n",
      "INFO:absl:Feature Fee has a shape . Setting to DenseTensor.\n",
      "INFO:absl:Feature FurLength has a shape . Setting to DenseTensor.\n",
      "INFO:absl:Feature Gender has a shape . Setting to DenseTensor.\n",
      "INFO:absl:Feature Health has a shape . Setting to DenseTensor.\n",
      "INFO:absl:Feature MaturitySize has a shape . Setting to DenseTensor.\n",
      "INFO:absl:Feature PhotoAmt has a shape . Setting to DenseTensor.\n",
      "INFO:absl:Feature Sterilized has a shape . Setting to DenseTensor.\n",
      "INFO:absl:Feature Type has a shape . Setting to DenseTensor.\n",
      "INFO:absl:Feature Vaccinated has a shape . Setting to DenseTensor.\n",
      "INFO:absl:Feature AdoptionSpeed has a shape . Setting to DenseTensor.\n",
      "INFO:absl:Feature Age has a shape . Setting to DenseTensor.\n",
      "INFO:absl:Feature Breed1 has a shape . Setting to DenseTensor.\n",
      "INFO:absl:Feature Color1 has a shape . Setting to DenseTensor.\n",
      "INFO:absl:Feature Color2 has a shape . Setting to DenseTensor.\n",
      "INFO:absl:Feature Description has no shape. Setting to varlen_sparse_tensor.\n",
      "INFO:absl:Feature Fee has a shape . Setting to DenseTensor.\n",
      "INFO:absl:Feature FurLength has a shape . Setting to DenseTensor.\n",
      "INFO:absl:Feature Gender has a shape . Setting to DenseTensor.\n",
      "INFO:absl:Feature Health has a shape . Setting to DenseTensor.\n",
      "INFO:absl:Feature MaturitySize has a shape . Setting to DenseTensor.\n",
      "INFO:absl:Feature PhotoAmt has a shape . Setting to DenseTensor.\n",
      "INFO:absl:Feature Sterilized has a shape . Setting to DenseTensor.\n",
      "INFO:absl:Feature Type has a shape . Setting to DenseTensor.\n",
      "INFO:absl:Feature Vaccinated has a shape . Setting to DenseTensor.\n",
      "INFO:apache_beam.typehints.native_type_compatibility:Using Any for unsupported type: typing.Sequence[str]\n",
      "WARNING:absl:You are passing instance dicts and DatasetMetadata to TFT which will not provide optimal performance. Consider following the TFT guide to upgrade to the TFXIO format (Apache Arrow RecordBatch).\n",
      "INFO:absl:Feature AdoptionSpeed has a shape . Setting to DenseTensor.\n",
      "INFO:absl:Feature Age has a shape . Setting to DenseTensor.\n",
      "INFO:absl:Feature Breed1 has a shape . Setting to DenseTensor.\n",
      "INFO:absl:Feature Color1 has a shape . Setting to DenseTensor.\n",
      "INFO:absl:Feature Color2 has a shape . Setting to DenseTensor.\n",
      "INFO:absl:Feature Description has no shape. Setting to varlen_sparse_tensor.\n",
      "INFO:absl:Feature Fee has a shape . Setting to DenseTensor.\n",
      "INFO:absl:Feature FurLength has a shape . Setting to DenseTensor.\n",
      "INFO:absl:Feature Gender has a shape . Setting to DenseTensor.\n",
      "INFO:absl:Feature Health has a shape . Setting to DenseTensor.\n",
      "INFO:absl:Feature MaturitySize has a shape . Setting to DenseTensor.\n",
      "INFO:absl:Feature PhotoAmt has a shape . Setting to DenseTensor.\n",
      "INFO:absl:Feature Sterilized has a shape . Setting to DenseTensor.\n",
      "INFO:absl:Feature Type has a shape . Setting to DenseTensor.\n",
      "INFO:absl:Feature Vaccinated has a shape . Setting to DenseTensor.\n",
      "INFO:absl:Feature AdoptionSpeed has a shape . Setting to DenseTensor.\n",
      "INFO:absl:Feature Age has a shape . Setting to DenseTensor.\n",
      "INFO:absl:Feature Breed1 has a shape . Setting to DenseTensor.\n",
      "INFO:absl:Feature Color1 has a shape . Setting to DenseTensor.\n",
      "INFO:absl:Feature Color2 has a shape . Setting to DenseTensor.\n",
      "INFO:absl:Feature Description has no shape. Setting to varlen_sparse_tensor.\n",
      "INFO:absl:Feature Fee has a shape . Setting to DenseTensor.\n",
      "INFO:absl:Feature FurLength has a shape . Setting to DenseTensor.\n",
      "INFO:absl:Feature Gender has a shape . Setting to DenseTensor.\n",
      "INFO:absl:Feature Health has a shape . Setting to DenseTensor.\n",
      "INFO:absl:Feature MaturitySize has a shape . Setting to DenseTensor.\n",
      "INFO:absl:Feature PhotoAmt has a shape . Setting to DenseTensor.\n",
      "INFO:absl:Feature Sterilized has a shape . Setting to DenseTensor.\n",
      "INFO:absl:Feature Type has a shape . Setting to DenseTensor.\n",
      "INFO:absl:Feature Vaccinated has a shape . Setting to DenseTensor.\n",
      "INFO:absl:Feature AdoptionSpeed has a shape . Setting to DenseTensor.\n",
      "INFO:absl:Feature Age has a shape . Setting to DenseTensor.\n",
      "INFO:absl:Feature Breed1 has a shape . Setting to DenseTensor.\n",
      "INFO:absl:Feature Color1 has a shape . Setting to DenseTensor.\n",
      "INFO:absl:Feature Color2 has a shape . Setting to DenseTensor.\n",
      "INFO:absl:Feature Description has no shape. Setting to varlen_sparse_tensor.\n",
      "INFO:absl:Feature Fee has a shape . Setting to DenseTensor.\n",
      "INFO:absl:Feature FurLength has a shape . Setting to DenseTensor.\n",
      "INFO:absl:Feature Gender has a shape . Setting to DenseTensor.\n",
      "INFO:absl:Feature Health has a shape . Setting to DenseTensor.\n",
      "INFO:absl:Feature MaturitySize has a shape . Setting to DenseTensor.\n",
      "INFO:absl:Feature PhotoAmt has a shape . Setting to DenseTensor.\n",
      "INFO:absl:Feature Sterilized has a shape . Setting to DenseTensor.\n",
      "INFO:absl:Feature Type has a shape . Setting to DenseTensor.\n",
      "INFO:absl:Feature Vaccinated has a shape . Setting to DenseTensor.\n",
      "INFO:apache_beam.typehints.native_type_compatibility:Using Any for unsupported type: typing.Sequence[str]\n",
      "WARNING:absl:You are outputting instance dicts from `TransformDataset` which will not provide optimal performance. Consider setting  `output_record_batches=True` to upgrade to the TFXIO format (Apache Arrow RecordBatch). Encoding functionality in this module works with both formats.\n",
      "WARNING:apache_beam.options.pipeline_options:Discarding unparseable args: ['-f', '/Users/enrico/Library/Jupyter/runtime/kernel-ae2d3528-ec70-4ab6-b71c-f554050a9639.json']\n",
      "INFO:apache_beam.runners.worker.statecache:Creating state cache with size 104857600\n"
     ]
    },
    {
     "name": "stdout",
     "output_type": "stream",
     "text": [
      "INFO:tensorflow:Assets written to: /var/folders/42/59vqmp2x4xj9lb7str_hh_x80000gq/T/tmp7gop5xms/tftransform_tmp/4506437cc44a4a5395b8bd647613eb74/assets\n"
     ]
    },
    {
     "name": "stderr",
     "output_type": "stream",
     "text": [
      "INFO:tensorflow:Assets written to: /var/folders/42/59vqmp2x4xj9lb7str_hh_x80000gq/T/tmp7gop5xms/tftransform_tmp/4506437cc44a4a5395b8bd647613eb74/assets\n",
      "WARNING:root:TensorFlow Decision Forests 1.8.1 is compatible with the following TensorFlow Versions: ['2.15.0']. However, TensorFlow 2.15.1 was detected. This can cause issues with the TF API and symbols in the custom C++ ops. See the TF and TF-DF compatibility table at https://github.com/tensorflow/decision-forests/blob/main/documentation/known_issues.md#compatibility-table.\n"
     ]
    },
    {
     "name": "stdout",
     "output_type": "stream",
     "text": [
      "INFO:tensorflow:tensorflow_text is not available.\n"
     ]
    },
    {
     "name": "stderr",
     "output_type": "stream",
     "text": [
      "INFO:tensorflow:tensorflow_text is not available.\n",
      "INFO:root:BatchElements statistics: element_count=3 batch_count=3 next_batch_size=1 timings=[(1, 0.0071620941162109375), (1, 0.008028745651245117)]\n",
      "INFO:root:BatchElements statistics: element_count=3 batch_count=3 next_batch_size=1 timings=[(1, 0.001627206802368164), (1, 0.0018041133880615234)]\n",
      "INFO:root:BatchElements statistics: element_count=2 batch_count=1 next_batch_size=150000 timings=[]\n",
      "INFO:root:BatchElements statistics: element_count=1 batch_count=1 next_batch_size=150000 timings=[]\n",
      "INFO:root:BatchElements statistics: element_count=2 batch_count=1 next_batch_size=150000 timings=[]\n",
      "INFO:root:BatchElements statistics: element_count=2 batch_count=1 next_batch_size=150000 timings=[]\n",
      "INFO:root:BatchElements statistics: element_count=2 batch_count=1 next_batch_size=150000 timings=[]\n",
      "INFO:root:BatchElements statistics: element_count=2 batch_count=1 next_batch_size=150000 timings=[]\n",
      "INFO:root:BatchElements statistics: element_count=3 batch_count=1 next_batch_size=150000 timings=[]\n",
      "INFO:root:BatchElements statistics: element_count=2 batch_count=1 next_batch_size=150000 timings=[]\n",
      "INFO:root:BatchElements statistics: element_count=1 batch_count=1 next_batch_size=150000 timings=[]\n",
      "INFO:apache_beam.io.filebasedsink:Starting finalize_write threads with num_shards: 1 (skipped: 0), batches: 1, num_threads: 1\n",
      "INFO:apache_beam.io.filebasedsink:Renamed 1 shards in 0.03 seconds.\n",
      "INFO:apache_beam.io.filebasedsink:Starting finalize_write threads with num_shards: 1 (skipped: 0), batches: 1, num_threads: 1\n",
      "INFO:apache_beam.io.filebasedsink:Renamed 1 shards in 0.00 seconds.\n",
      "INFO:apache_beam.io.filebasedsink:Starting finalize_write threads with num_shards: 1 (skipped: 0), batches: 1, num_threads: 1\n",
      "INFO:apache_beam.io.filebasedsink:Renamed 1 shards in 0.00 seconds.\n",
      "INFO:apache_beam.io.filebasedsink:Starting finalize_write threads with num_shards: 1 (skipped: 0), batches: 1, num_threads: 1\n",
      "INFO:apache_beam.io.filebasedsink:Renamed 1 shards in 0.00 seconds.\n",
      "INFO:apache_beam.io.filebasedsink:Starting finalize_write threads with num_shards: 1 (skipped: 0), batches: 1, num_threads: 1\n",
      "INFO:apache_beam.io.filebasedsink:Renamed 1 shards in 0.00 seconds.\n",
      "INFO:apache_beam.io.filebasedsink:Starting finalize_write threads with num_shards: 1 (skipped: 0), batches: 1, num_threads: 1\n",
      "INFO:apache_beam.io.filebasedsink:Renamed 1 shards in 0.00 seconds.\n",
      "INFO:apache_beam.io.filebasedsink:Starting finalize_write threads with num_shards: 1 (skipped: 0), batches: 1, num_threads: 1\n",
      "INFO:apache_beam.io.filebasedsink:Renamed 1 shards in 0.00 seconds.\n",
      "INFO:apache_beam.io.filebasedsink:Starting finalize_write threads with num_shards: 1 (skipped: 0), batches: 1, num_threads: 1\n",
      "INFO:apache_beam.io.filebasedsink:Renamed 1 shards in 0.00 seconds.\n",
      "INFO:apache_beam.io.filebasedsink:Starting finalize_write threads with num_shards: 1 (skipped: 0), batches: 1, num_threads: 1\n",
      "INFO:apache_beam.io.filebasedsink:Renamed 1 shards in 0.00 seconds.\n"
     ]
    },
    {
     "name": "stdout",
     "output_type": "stream",
     "text": [
      "INFO:tensorflow:Assets written to: /var/folders/42/59vqmp2x4xj9lb7str_hh_x80000gq/T/tmp7gop5xms/tftransform_tmp/1c1549a098de4311961a8c9c2d64f745/assets\n"
     ]
    },
    {
     "name": "stderr",
     "output_type": "stream",
     "text": [
      "INFO:tensorflow:Assets written to: /var/folders/42/59vqmp2x4xj9lb7str_hh_x80000gq/T/tmp7gop5xms/tftransform_tmp/1c1549a098de4311961a8c9c2d64f745/assets\n"
     ]
    },
    {
     "name": "stdout",
     "output_type": "stream",
     "text": [
      "INFO:tensorflow:tensorflow_text is not available.\n"
     ]
    },
    {
     "name": "stderr",
     "output_type": "stream",
     "text": [
      "INFO:tensorflow:tensorflow_text is not available.\n"
     ]
    },
    {
     "name": "stdout",
     "output_type": "stream",
     "text": [
      "{'adoption_speed': 0.0, 'age': 1.4142136573791504, 'color1': array([1., 0., 0.], dtype=float32), 'color2': array([1., 0., 0.], dtype=float32), 'fee': 1.4142136573791504, 'fur_length': array([0., 1., 0.], dtype=float32), 'gender': array([1., 0.], dtype=float32), 'health': array([1., 0.], dtype=float32), 'maturity_size': array([0., 1., 0.], dtype=float32), 'photo_amt': -0.8890008330345154, 'sterilized': array([1., 0., 0.], dtype=float32), 'type': array([1., 0., 0.], dtype=float32), 'vaccinated': array([0., 0., 1., 0.], dtype=float32)}\n",
      "{'adoption_speed': 0.0, 'age': -0.7071067094802856, 'color1': array([1., 0., 0.], dtype=float32), 'color2': array([0., 1., 0.], dtype=float32), 'fee': -0.7071067094802856, 'fur_length': array([1., 0., 0.], dtype=float32), 'gender': array([1., 0.], dtype=float32), 'health': array([1., 0.], dtype=float32), 'maturity_size': array([1., 0., 0.], dtype=float32), 'photo_amt': -0.5080004930496216, 'sterilized': array([0., 1., 0.], dtype=float32), 'type': array([1., 0., 0.], dtype=float32), 'vaccinated': array([0., 1., 0., 0.], dtype=float32)}\n",
      "{'adoption_speed': 0.0, 'age': -0.7071067094802856, 'color1': array([0., 1., 0.], dtype=float32), 'color2': array([1., 0., 0.], dtype=float32), 'fee': -0.7071067094802856, 'fur_length': array([1., 0., 0.], dtype=float32), 'gender': array([1., 0.], dtype=float32), 'health': array([1., 0.], dtype=float32), 'maturity_size': array([1., 0., 0.], dtype=float32), 'photo_amt': 1.3970013856887817, 'sterilized': array([1., 0., 0.], dtype=float32), 'type': array([0., 1., 0.], dtype=float32), 'vaccinated': array([1., 0., 0., 0.], dtype=float32)}\n"
     ]
    }
   ],
   "execution_count": 4
  }
 ],
 "metadata": {
  "kernelspec": {
   "display_name": "Python 3",
   "language": "python",
   "name": "python3"
  },
  "language_info": {
   "codemirror_mode": {
    "name": "ipython",
    "version": 2
   },
   "file_extension": ".py",
   "mimetype": "text/x-python",
   "name": "python",
   "nbconvert_exporter": "python",
   "pygments_lexer": "ipython2",
   "version": "2.7.6"
  }
 },
 "nbformat": 4,
 "nbformat_minor": 5
}
